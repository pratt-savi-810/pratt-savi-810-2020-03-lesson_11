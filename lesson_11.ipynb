{
 "cells": [
  {
   "cell_type": "markdown",
   "metadata": {},
   "source": [
    "# Lesson 11\n",
    "\n",
    "# Managing data retrieval workflows with Requests, Unzipping files, concatenating DataFrames; Wrap-up Additional Mapping Functionality with Matplotlib\n",
    "\n",
    "\n",
    "\n",
    "![http://www.pratt.edu/tiny_mce/plugins/imagemanager/files/Light_brown_blue22.jpg](http://www.pratt.edu/tiny_mce/plugins/imagemanager/files/Light_brown_blue22.jpg)\n",
    "\n",
    "# Class Links\n",
    "\n",
    "* [Syllabus](https://docs.google.com/document/d/1KHxT-NkaoXXdSNkK8JlzL2FFgmNoxPQ25fwgtXPnbrY)\n",
    "\n",
    "* [Class Google Spreadsheet](https://docs.google.com/spreadsheets/d/1t481r7HjQBbjNtFOABSOlcckzQhdrh12TCzpSYKurI0/edit?usp=sharing)\n",
    "\n",
    "* [Google Meetup Video Hangout](https://meet.google.com/aym-kxae-bzr)\n",
    "\n",
    "  * For United States Dial +1 \n",
    "    * (669) 220-6376\n",
    "  * Enter this PIN when prompted: \n",
    "    * 891 126 706 #\n",
    "  \n",
    "* [GitHub Organization](https://github.com/pratt-savi-810)\n",
    "\n",
    "* [Slack Organization](https://app.slack.com/client/T01068MA75X/C010J3Q2QET)\n",
    "\n",
    "* [Resources](https://github.com/pratt-savi-810/resources)"
   ]
  },
  {
   "cell_type": "markdown",
   "metadata": {
    "toc": true
   },
   "source": [
    "<h1>Table of Contents<span class=\"tocSkip\"></span></h1>\n",
    "<div class=\"toc\"><ul class=\"toc-item\"><li><span><a href=\"#Lesson-11\" data-toc-modified-id=\"Lesson-11-1\">Lesson 11</a></span></li><li><span><a href=\"#Managing-data-retrieval-workflows-with-Requests,-Unzipping-files,-concatenating-DataFrames;-Wrap-up-Additional-Mapping-Functionality-with-Matplotlib\" data-toc-modified-id=\"Managing-data-retrieval-workflows-with-Requests,-Unzipping-files,-concatenating-DataFrames;-Wrap-up-Additional-Mapping-Functionality-with-Matplotlib-2\">Managing data retrieval workflows with Requests, Unzipping files, concatenating DataFrames; Wrap-up Additional Mapping Functionality with Matplotlib</a></span></li><li><span><a href=\"#Class-Links\" data-toc-modified-id=\"Class-Links-3\">Class Links</a></span></li><li><span><a href=\"#Learning-Objectives\" data-toc-modified-id=\"Learning-Objectives-4\">Learning Objectives</a></span><ul class=\"toc-item\"><li><ul class=\"toc-item\"><li><span><a href=\"#Fork-and-Clone-this-Lesson-Repo\" data-toc-modified-id=\"Fork-and-Clone-this-Lesson-Repo-4.0.1\">Fork and Clone this Lesson Repo</a></span></li></ul></li></ul></li><li><span><a href=\"#Import-Libraries\" data-toc-modified-id=\"Import-Libraries-5\">Import Libraries</a></span></li><li><span><a href=\"#Downloading-Files-from-the-internet-with-urllib.\" data-toc-modified-id=\"Downloading-Files-from-the-internet-with-urllib.-6\">Downloading Files from the internet with <code>urllib</code>.</a></span><ul class=\"toc-item\"><li><ul class=\"toc-item\"><li><span><a href=\"#How-to:-Fetch-Internet-Resources-Using-The-urllib-Package\" data-toc-modified-id=\"How-to:-Fetch-Internet-Resources-Using-The-urllib-Package-6.0.1\"><a href=\"https://docs.python.org/3/howto/urllib2.html\" target=\"_blank\">How to: Fetch Internet Resources Using The urllib Package</a></a></span><ul class=\"toc-item\"><li><span><a href=\"#Let's-import-urllib.request\" data-toc-modified-id=\"Let's-import-urllib.request-6.0.1.1\">Let's import <code>urllib.request</code></a></span></li></ul></li></ul></li><li><span><a href=\"#Downloading-files-with-urllib-example.\" data-toc-modified-id=\"Downloading-files-with-urllib-example.-6.1\">Downloading files with <code>urllib</code> example.</a></span><ul class=\"toc-item\"><li><ul class=\"toc-item\"><li><span><a href=\"#An-example-of-where-we-may-want-to-request-and-download-files-may-be-Shapefiles-from-the-US-Census-Website\" data-toc-modified-id=\"An-example-of-where-we-may-want-to-request-and-download-files-may-be-Shapefiles-from-the-US-Census-Website-6.1.0.1\">An example of where we may want to request and download files may be Shapefiles from the US Census Website</a></span></li><li><span><a href=\"#Each-State-Census-Tract-Shapefile-is-zipped-into-a-.zip-file-and-has-it's-own-URL-endpoint.\" data-toc-modified-id=\"Each-State-Census-Tract-Shapefile-is-zipped-into-a-.zip-file-and-has-it's-own-URL-endpoint.-6.1.0.2\">Each State Census Tract Shapefile is zipped into a .zip file and has it's own URL endpoint.</a></span></li><li><span><a href=\"#From-urllib.request,-let's-use-urlretrieve()-to-access-this-url-for-this-file-and-download-it.\" data-toc-modified-id=\"From-urllib.request,-let's-use-urlretrieve()-to-access-this-url-for-this-file-and-download-it.-6.1.0.3\">From <code>urllib.request</code>, let's use <code>urlretrieve()</code> to access this url for this file and download it.</a></span></li><li><span><a href=\"#Now-let's-say-we-wanted-to-get-all-the-State-Tract-Shapefiles-for-States-in-New-England\" data-toc-modified-id=\"Now-let's-say-we-wanted-to-get-all-the-State-Tract-Shapefiles-for-States-in-New-England-6.1.0.4\">Now let's say we wanted to get all the State Tract Shapefiles for States in New England</a></span></li><li><span><a href=\"#Create-a-loop\" data-toc-modified-id=\"Create-a-loop-6.1.0.5\">Create a loop</a></span></li><li><span><a href=\"#Unzipping-.zip-files-in-Python\" data-toc-modified-id=\"Unzipping-.zip-files-in-Python-6.1.0.6\">Unzipping <code>.zip</code> files in Python</a></span></li><li><span><a href=\"#Import-zipfile\" data-toc-modified-id=\"Import-zipfile-6.1.0.7\">Import <code>zipfile</code></a></span></li><li><span><a href=\"#Read-our-zipfile-as-a-ZipFile\" data-toc-modified-id=\"Read-our-zipfile-as-a-ZipFile-6.1.0.8\">Read our zipfile as a <code>ZipFile</code></a></span></li><li><span><a href=\"#Let's-extract-our-zipfile-object-z\" data-toc-modified-id=\"Let's-extract-our-zipfile-object-z-6.1.0.9\">Let's extract our zipfile object <code>z</code></a></span></li><li><span><a href=\"#Now-let's-loop-through-our-New-England-Zipped-Shapefiles\" data-toc-modified-id=\"Now-let's-loop-through-our-New-England-Zipped-Shapefiles-6.1.0.10\">Now let's loop through our New England Zipped Shapefiles</a></span></li></ul></li></ul></li></ul></li><li><span><a href=\"#Glob-a-Directory-to-search-for-a-list-of-files\" data-toc-modified-id=\"Glob-a-Directory-to-search-for-a-list-of-files-7\">Glob a Directory to search for a list of files</a></span><ul class=\"toc-item\"><li><ul class=\"toc-item\"><li><ul class=\"toc-item\"><li><span><a href=\"#Import-glob\" data-toc-modified-id=\"Import-glob-7.0.0.1\">Import <code>glob</code></a></span></li><li><span><a href=\"#Search-our-data/new_england_tracts-folder-for-any-files-using-*-as-our-wildcard\" data-toc-modified-id=\"Search-our-data/new_england_tracts-folder-for-any-files-using-*-as-our-wildcard-7.0.0.2\">Search our <code>data/new_england_tracts</code> folder for any files using * as our wildcard</a></span></li><li><span><a href=\"#So-let's-say-we-wanted-just-to-glob-the-.shp-files\" data-toc-modified-id=\"So-let's-say-we-wanted-just-to-glob-the-.shp-files-7.0.0.3\">So let's say we wanted just to <code>glob</code> the <code>.shp</code> files</a></span></li></ul></li></ul></li></ul></li><li><span><a href=\"#Pandas-Concat\" data-toc-modified-id=\"Pandas-Concat-8\">Pandas Concat</a></span><ul class=\"toc-item\"><li><ul class=\"toc-item\"><li><ul class=\"toc-item\"><li><span><a href=\"#Let's-read-all-the-shapefiles-in-this-directory-into-GeoDataFrames-and-then-append-together.\" data-toc-modified-id=\"Let's-read-all-the-shapefiles-in-this-directory-into-GeoDataFrames-and-then-append-together.-8.0.0.1\">Let's read all the shapefiles in this directory into GeoDataFrames and then append together.</a></span></li><li><span><a href=\"#Let's-take-a-look-at-our-new_england_tracts-object\" data-toc-modified-id=\"Let's-take-a-look-at-our-new_england_tracts-object-8.0.0.2\">Let's take a look at our <code>new_england_tracts</code> object</a></span></li></ul></li><li><span><a href=\"#First-let's-discuss\" data-toc-modified-id=\"First-let's-discuss-8.0.1\">First let's discuss</a></span></li></ul></li></ul></li><li><span><a href=\"#Reading-Excel-files-with-Pandas\" data-toc-modified-id=\"Reading-Excel-files-with-Pandas-9\">Reading Excel files with Pandas</a></span><ul class=\"toc-item\"><li><ul class=\"toc-item\"><li><ul class=\"toc-item\"><li><span><a href=\"#You-may-need-to-pip-install-xlrd-for-reading-first\" data-toc-modified-id=\"You-may-need-to-pip-install-xlrd-for-reading-first-9.0.0.1\">You may need to <code>pip install xlrd</code> for reading first</a></span></li><li><span><a href=\"#Let's-take-a-look-at-our-DataFrame-.head()\" data-toc-modified-id=\"Let's-take-a-look-at-our-DataFrame-.head()-9.0.0.2\">Let's take a look at our DataFrame <code>.head()</code></a></span></li><li><span><a href=\"#What's-wrong-here?\" data-toc-modified-id=\"What's-wrong-here?-9.0.0.3\">What's wrong here?</a></span></li><li><span><a href=\"#Let's-look-the-file-in-Excel\" data-toc-modified-id=\"Let's-look-the-file-in-Excel-9.0.0.4\">Let's look the file in Excel</a></span></li><li><span><a href=\"#Let's-specify-the-header-row-with-the-header-argument-in-pd.read_excel()\" data-toc-modified-id=\"Let's-specify-the-header-row-with-the-header-argument-in-pd.read_excel()-9.0.0.5\">Let's specify the header row with the <code>header</code> argument in <code>pd.read_excel()</code></a></span></li></ul></li></ul></li></ul></li><li><span><a href=\"#Let's-write-a-function-to-Extract-NYC-Department-of-Finance's-Rolling-Sales-Data\" data-toc-modified-id=\"Let's-write-a-function-to-Extract-NYC-Department-of-Finance's-Rolling-Sales-Data-10\">Let's write a function to Extract NYC Department of Finance's Rolling Sales Data</a></span><ul class=\"toc-item\"><li><ul class=\"toc-item\"><li><ul class=\"toc-item\"><li><span><a href=\"#Verify-the-.shape-of-our-DataFrame-object-df_all\" data-toc-modified-id=\"Verify-the-.shape-of-our-DataFrame-object-df_all-10.0.0.1\">Verify the <code>.shape</code> of our DataFrame object <code>df_all</code></a></span></li></ul></li></ul></li></ul></li><li><span><a href=\"#Python-Mapping-Cont'd\" data-toc-modified-id=\"Python-Mapping-Cont'd-11\">Python Mapping Cont'd</a></span><ul class=\"toc-item\"><li><ul class=\"toc-item\"><li><ul class=\"toc-item\"><li><span><a href=\"#Let's-import-NYC-NTA-Boundaries-and-generate-a-GeoDataFrame\" data-toc-modified-id=\"Let's-import-NYC-NTA-Boundaries-and-generate-a-GeoDataFrame-11.0.0.1\">Let's import NYC NTA Boundaries and generate a GeoDataFrame</a></span></li></ul></li></ul></li></ul></li><li><span><a href=\"#Pickup-Here-from-last-Monday\" data-toc-modified-id=\"Pickup-Here-from-last-Monday-12\">Pickup Here from last Monday</a></span><ul class=\"toc-item\"><li><span><a href=\"#Legend\" data-toc-modified-id=\"Legend-12.1\">Legend</a></span></li><li><span><a href=\"#Annotate-Data-Source\" data-toc-modified-id=\"Annotate-Data-Source-12.2\">Annotate Data Source</a></span><ul class=\"toc-item\"><li><ul class=\"toc-item\"><li><span><a href=\"#More-on-annotation:-https://jakevdp.github.io/PythonDataScienceHandbook/04.09-text-and-annotation.html\" data-toc-modified-id=\"More-on-annotation:-https://jakevdp.github.io/PythonDataScienceHandbook/04.09-text-and-annotation.html-12.2.0.1\">More on annotation: <a href=\"https://jakevdp.github.io/PythonDataScienceHandbook/04.09-text-and-annotation.html\" target=\"_blank\">https://jakevdp.github.io/PythonDataScienceHandbook/04.09-text-and-annotation.html</a></a></span></li></ul></li></ul></li><li><span><a href=\"#Turn-off-the-axis-and-neatline\" data-toc-modified-id=\"Turn-off-the-axis-and-neatline-12.3\">Turn off the axis and neatline</a></span></li></ul></li><li><span><a href=\"#Basemaps-with-Contextily\" data-toc-modified-id=\"Basemaps-with-Contextily-13\">Basemaps with Contextily</a></span><ul class=\"toc-item\"><li><ul class=\"toc-item\"><li><ul class=\"toc-item\"><li><span><a href=\"#Change-the-Basemap\" data-toc-modified-id=\"Change-the-Basemap-13.0.0.1\">Change the Basemap</a></span></li><li><span><a href=\"#Carto-Basemaps---Positron-Light\" data-toc-modified-id=\"Carto-Basemaps---Positron-Light-13.0.0.2\">Carto Basemaps - Positron Light</a></span></li><li><span><a href=\"#Carto-Positron-Dark---No-Labels\" data-toc-modified-id=\"Carto-Positron-Dark---No-Labels-13.0.0.3\">Carto Positron Dark - No Labels</a></span></li><li><span><a href=\"#More-Carto-(CartoDB)-Basemaps\" data-toc-modified-id=\"More-Carto-(CartoDB)-Basemaps-13.0.0.4\">More Carto (CartoDB) Basemaps</a></span></li><li><span><a href=\"#More-Contextily-Basemaps\" data-toc-modified-id=\"More-Contextily-Basemaps-13.0.0.5\">More Contextily Basemaps</a></span></li></ul></li></ul></li><li><span><a href=\"#Join-our-NTA-data-to-some-Demographic-Data\" data-toc-modified-id=\"Join-our-NTA-data-to-some-Demographic-Data-13.1\">Join our NTA data to some Demographic Data</a></span><ul class=\"toc-item\"><li><ul class=\"toc-item\"><li><span><a href=\"#Read-in-Demographic-Population-Data-2000-2010-from-NYC-DCP\" data-toc-modified-id=\"Read-in-Demographic-Population-Data-2000-2010-from-NYC-DCP-13.1.0.1\">Read in Demographic Population Data 2000-2010 from NYC DCP</a></span></li><li><span><a href=\"#Shape-of-the-data\" data-toc-modified-id=\"Shape-of-the-data-13.1.0.2\">Shape of the data</a></span></li><li><span><a href=\"#List-the-columns\" data-toc-modified-id=\"List-the-columns-13.1.0.3\">List the columns</a></span></li><li><span><a href=\"#Let's-merge-our-datasets\" data-toc-modified-id=\"Let's-merge-our-datasets-13.1.0.4\">Let's merge our datasets</a></span></li><li><span><a href=\"#Describe-our-data\" data-toc-modified-id=\"Describe-our-data-13.1.0.5\">Describe our data</a></span></li><li><span><a href=\"#Plot\" data-toc-modified-id=\"Plot-13.1.0.6\">Plot</a></span></li></ul></li></ul></li></ul></li></ul></div>"
   ]
  },
  {
   "cell_type": "markdown",
   "metadata": {},
   "source": [
    "# Learning Objectives\n",
    "\n",
    "\n",
    "* Additional Mapping Functionality with Matplotlib\n",
    "* Managing data retrieval workflows with Requests, Unzipping files, concatenating DataFrames\n",
    "\n",
    "\n",
    "### Fork and Clone this Lesson Repo\n",
    "\n",
    "https://github.com/pratt-savi-810/pratt-savi-810-2020-03-lesson_11\n",
    "\n",
    "\n"
   ]
  },
  {
   "cell_type": "markdown",
   "metadata": {},
   "source": [
    "# Import Libraries\n",
    "\n",
    "Let's `import` some of the libraries we've already used. "
   ]
  },
  {
   "cell_type": "code",
   "execution_count": 3,
   "metadata": {},
   "outputs": [
    {
     "name": "stdout",
     "output_type": "stream",
     "text": [
      "The autoreload extension is already loaded. To reload it, use:\n",
      "  %reload_ext autoreload\n"
     ]
    }
   ],
   "source": [
    "import os\n",
    "import sys\n",
    "module_path = os.path.abspath(os.path.join('..'))\n",
    "if module_path not in sys.path:\n",
    "    sys.path.append(module_path)\n",
    "    \n",
    "\n",
    "from IPython.display import IFrame\n",
    "import pandas as pd\n",
    "import geopandas as gpd\n",
    "import matplotlib.pyplot as plt\n",
    "import numpy as np\n",
    "import missingno as msno\n",
    "import seaborn as sns\n",
    "import matplotlib.patches as patches\n",
    "import warnings\n",
    "import networkx as nx\n",
    "import osmnx as ox\n",
    "import requests\n",
    "import matplotlib.cm as cm\n",
    "import matplotlib.colors as colors\n",
    "ox.config(use_cache=True, log_console=True)\n",
    "warnings.filterwarnings('ignore')\n",
    "warnings.simplefilter('ignore')\n",
    "\n",
    "\n",
    "%matplotlib inline\n",
    "%load_ext autoreload\n",
    "%autoreload 2"
   ]
  },
  {
   "cell_type": "markdown",
   "metadata": {},
   "source": [
    "# Downloading Files from the internet with `urllib`.\n",
    "\n",
    "> urllib is a package that collects several modules for working with URLs. Source: https://docs.python.org/3/library/urllib.html\n",
    "\n",
    "### [How to: Fetch Internet Resources Using The urllib Package](https://docs.python.org/3/howto/urllib2.html)\n",
    "\n",
    "You can read `html` as well as actual files and data with `urllib`. \n",
    "\n",
    "A use case of this, is perhaps you need to download files based on a URL. "
   ]
  },
  {
   "cell_type": "markdown",
   "metadata": {},
   "source": [
    "#### Let's import `urllib.request`"
   ]
  },
  {
   "cell_type": "code",
   "execution_count": 4,
   "metadata": {},
   "outputs": [],
   "source": [
    "import urllib  # standard python library or built-in library"
   ]
  },
  {
   "cell_type": "markdown",
   "metadata": {},
   "source": [
    "## Downloading files with `urllib` example. \n",
    "\n",
    "#### An example of where we may want to request and download files may be Shapefiles from the US Census Website\n",
    "\n",
    "[![shapefiles](https://raw.githubusercontent.com/pratt-savi-810/images/master/census_tract_zip_files.png)](https://www2.census.gov/geo/tiger/TIGER2019/TRACT/)\n",
    "\n",
    "#### Each State Census Tract Shapefile is zipped into a .zip file and has it's own URL endpoint. \n",
    "\n",
    "The endpoints are unique based on the GEOID for the State. \n",
    "\n",
    "Example URL:\n",
    "`https://www2.census.gov/geo/tiger/TIGER2019/TRACT/tl_2019_36_tract.zip`\n",
    "\n",
    "New York State is GEOID 36. See a list of all the State FIPS codes [https://en.wikipedia.org/wiki/Federal_Information_Processing_Standard_state_code](https://en.wikipedia.org/wiki/Federal_Information_Processing_Standard_state_code). "
   ]
  },
  {
   "cell_type": "code",
   "execution_count": 5,
   "metadata": {},
   "outputs": [],
   "source": [
    "file_url = 'https://www2.census.gov/geo/tiger/TIGER2019/TRACT/tl_2019_36_tract.zip'"
   ]
  },
  {
   "cell_type": "markdown",
   "metadata": {},
   "source": [
    "#### From `urllib.request`, let's use `urlretrieve()` to access this url for this file and download it. "
   ]
  },
  {
   "cell_type": "code",
   "execution_count": 7,
   "metadata": {},
   "outputs": [
    {
     "data": {
      "text/plain": [
       "('data/tl_2019_36_tract_TEST123.zip',\n",
       " <http.client.HTTPMessage at 0x7f98a0c33d30>)"
      ]
     },
     "execution_count": 7,
     "metadata": {},
     "output_type": "execute_result"
    }
   ],
   "source": [
    "urllib.request.urlretrieve(file_url, 'data/tl_2019_36_tract_TEST123.zip')\n"
   ]
  },
  {
   "cell_type": "markdown",
   "metadata": {},
   "source": [
    "#### Now let's say we wanted to get all the State Tract Shapefiles for States in New England \n",
    "\n",
    "` ['09', '50', '33', '25', '23', '44'] ` "
   ]
  },
  {
   "cell_type": "code",
   "execution_count": 29,
   "metadata": {},
   "outputs": [
    {
     "name": "stdout",
     "output_type": "stream",
     "text": [
      "https://www2.census.gov/geo/tiger/TIGER2019/TRACT/tl_2019_09_tract.zip\n",
      "https://www2.census.gov/geo/tiger/TIGER2019/TRACT/tl_2019_zz_tract.zip\n",
      "invalid url\n",
      "https://www2.census.gov/geo/tiger/TIGER2019/TRACT/tl_2019_50_tract.zip\n",
      "https://www2.census.gov/geo/tiger/TIGER2019/TRACT/tl_2019_33_tract.zip\n",
      "https://www2.census.gov/geo/tiger/TIGER2019/TRACT/tl_2019_25_tract.zip\n",
      "https://www2.census.gov/geo/tiger/TIGER2019/TRACT/tl_2019_23_tract.zip\n",
      "https://www2.census.gov/geo/tiger/TIGER2019/TRACT/tl_2019_44_tract.zip\n"
     ]
    }
   ],
   "source": [
    "geoid = ['09', 'zz', '50', '33', '25', '23', '44']\n",
    "\n",
    "for uid in geoid:\n",
    "    try:\n",
    "        url = f'https://www2.census.gov/geo/tiger/TIGER2019/TRACT/tl_2019_{uid}_tract.zip'\n",
    "        print(url)\n",
    "        urllib.request.urlretrieve(url, f'data/{uid}.zip')\n",
    "\n",
    "    except ExceptionError:\n",
    "        print('invalid url')"
   ]
  },
  {
   "cell_type": "markdown",
   "metadata": {},
   "source": [
    "#### Create a loop "
   ]
  },
  {
   "cell_type": "code",
   "execution_count": null,
   "metadata": {},
   "outputs": [],
   "source": []
  },
  {
   "cell_type": "markdown",
   "metadata": {},
   "source": [
    "###### FYI: You may need a `try: except:` as sometimes url's and responses get interrupted. "
   ]
  },
  {
   "cell_type": "markdown",
   "metadata": {},
   "source": [
    "#### Unzipping `.zip` files in Python"
   ]
  },
  {
   "cell_type": "markdown",
   "metadata": {},
   "source": [
    "#### Import `zipfile`"
   ]
  },
  {
   "cell_type": "code",
   "execution_count": 30,
   "metadata": {},
   "outputs": [],
   "source": [
    "import zipfile "
   ]
  },
  {
   "cell_type": "markdown",
   "metadata": {},
   "source": [
    "#### Read our zipfile as a `ZipFile` "
   ]
  },
  {
   "cell_type": "code",
   "execution_count": 32,
   "metadata": {},
   "outputs": [
    {
     "data": {
      "text/plain": [
       "<zipfile.ZipFile filename='data/33.zip' mode='r'>"
      ]
     },
     "execution_count": 32,
     "metadata": {},
     "output_type": "execute_result"
    }
   ],
   "source": [
    "z = zipfile.ZipFile('data/33.zip')\n",
    "\n",
    "z"
   ]
  },
  {
   "cell_type": "markdown",
   "metadata": {},
   "source": [
    "#### Let's extract our zipfile object `z`"
   ]
  },
  {
   "cell_type": "code",
   "execution_count": 33,
   "metadata": {},
   "outputs": [],
   "source": [
    "z.extractall('data/test_extract/')"
   ]
  },
  {
   "cell_type": "markdown",
   "metadata": {},
   "source": [
    "#### Now let's loop through our New England Zipped Shapefiles"
   ]
  },
  {
   "cell_type": "code",
   "execution_count": 36,
   "metadata": {},
   "outputs": [],
   "source": [
    "geoids = ['09', '50', '33', '25', '23', '44']\n",
    "\n",
    "# let's unzip all of these zip files \n",
    "for x in geoids:\n",
    "    z = zipfile.ZipFile(f'data/{x}.zip')\n",
    "    z.extractall(f'data/in_same_folder/')"
   ]
  },
  {
   "cell_type": "code",
   "execution_count": 40,
   "metadata": {},
   "outputs": [],
   "source": [
    "geoids = ['09', '50', '33', '25', '23', '44']\n",
    "\n",
    "# let's unzip all of these zip files \n",
    "for x in geoids:\n",
    "    zipfile.ZipFile(f'data/{x}.zip').extractall(f'data/in_same_folder_2/')"
   ]
  },
  {
   "cell_type": "code",
   "execution_count": 41,
   "metadata": {},
   "outputs": [],
   "source": [
    "def create_zip_file(directory_name, output_filename):\n",
    "    zipf = zipfile.ZipFile(output_filename, mode='w', allowZip64=True)\n",
    "    zip_dir(directory_name, zipf)\n",
    "    zipf.close()"
   ]
  },
  {
   "cell_type": "code",
   "execution_count": 47,
   "metadata": {},
   "outputs": [],
   "source": [
    "my_zip = zipfile.ZipFile('MyZipFiLE_ZIPFILESALLTHEWAYDOWN.zip', mode='w')\n",
    "my_zip.write('data/placeholder.txt')\n",
    "my_zip.write('data/33.zip')\n",
    "my_zip.close()"
   ]
  },
  {
   "cell_type": "markdown",
   "metadata": {},
   "source": [
    "# Glob a Directory to search for a list of files\n",
    "\n",
    "> The glob module finds all the pathnames matching a specified pattern according to the rules used by the Unix shell, although results are returned in arbitrary order. No tilde expansion is done, but *, ?, and character ranges expressed with [] will be correctly matched. This is done by using the os.scandir() and fnmatch.fnmatch() functions in concert, and not by actually invoking a subshell. Note that unlike fnmatch.fnmatch(), glob treats filenames beginning with a dot (.) as special cases. (For tilde and shell variable expansion, use os.path.expanduser() and os.path.expandvars().) Source: https://docs.python.org/3/library/glob.html\n",
    "\n",
    "\n",
    "#### Import `glob`"
   ]
  },
  {
   "cell_type": "code",
   "execution_count": 49,
   "metadata": {},
   "outputs": [],
   "source": [
    "import glob"
   ]
  },
  {
   "cell_type": "code",
   "execution_count": 50,
   "metadata": {},
   "outputs": [],
   "source": [
    "geoids = ['09', '50', '33', '25', '23', '44']\n",
    "\n",
    "# let's unzip all of these zip files \n",
    "for x in geoids:\n",
    "    z = zipfile.ZipFile(f'data/{x}.zip')\n",
    "    z.extractall(f'data/in_same_folder/')"
   ]
  },
  {
   "cell_type": "markdown",
   "metadata": {},
   "source": [
    "#### Search our `data/new_england_tracts` folder for any files using * as our wildcard"
   ]
  },
  {
   "cell_type": "code",
   "execution_count": 52,
   "metadata": {},
   "outputs": [
    {
     "data": {
      "text/plain": [
       "['data/in_same_folder/tl_2019_23_tract.shp.iso.xml',\n",
       " 'data/in_same_folder/tl_2019_33_tract.shp.ea.iso.xml',\n",
       " 'data/in_same_folder/tl_2019_44_tract.shp.iso.xml',\n",
       " 'data/in_same_folder/tl_2019_44_tract.dbf',\n",
       " 'data/in_same_folder/tl_2019_50_tract.dbf',\n",
       " 'data/in_same_folder/tl_2019_33_tract.dbf',\n",
       " 'data/in_same_folder/tl_2019_09_tract.shp.iso.xml',\n",
       " 'data/in_same_folder/tl_2019_25_tract.prj',\n",
       " 'data/in_same_folder/tl_2019_33_tract.shp',\n",
       " 'data/in_same_folder/tl_2019_44_tract.shx',\n",
       " 'data/in_same_folder/tl_2019_33_tract.cpg',\n",
       " 'data/in_same_folder/tl_2019_50_tract.shx',\n",
       " 'data/in_same_folder/tl_2019_44_tract.shp.ea.iso.xml',\n",
       " 'data/in_same_folder/tl_2019_44_tract.cpg',\n",
       " 'data/in_same_folder/tl_2019_33_tract.shx',\n",
       " 'data/in_same_folder/tl_2019_09_tract.prj',\n",
       " 'data/in_same_folder/tl_2019_44_tract.shp',\n",
       " 'data/in_same_folder/tl_2019_50_tract.shp',\n",
       " 'data/in_same_folder/tl_2019_50_tract.cpg',\n",
       " 'data/in_same_folder/tl_2019_23_tract.prj',\n",
       " 'data/in_same_folder/tl_2019_25_tract.shp.iso.xml',\n",
       " 'data/in_same_folder/tl_2019_25_tract.shp.ea.iso.xml',\n",
       " 'data/in_same_folder/tl_2019_23_tract.shp.ea.iso.xml',\n",
       " 'data/in_same_folder/tl_2019_23_tract.dbf',\n",
       " 'data/in_same_folder/tl_2019_50_tract.shp.ea.iso.xml',\n",
       " 'data/in_same_folder/tl_2019_09_tract.dbf',\n",
       " 'data/in_same_folder/tl_2019_09_tract.shp.ea.iso.xml',\n",
       " 'data/in_same_folder/tl_2019_25_tract.dbf',\n",
       " 'data/in_same_folder/tl_2019_25_tract.cpg',\n",
       " 'data/in_same_folder/tl_2019_25_tract.shp',\n",
       " 'data/in_same_folder/tl_2019_33_tract.prj',\n",
       " 'data/in_same_folder/tl_2019_09_tract.shx',\n",
       " 'data/in_same_folder/tl_2019_25_tract.shx',\n",
       " 'data/in_same_folder/tl_2019_09_tract.cpg',\n",
       " 'data/in_same_folder/tl_2019_44_tract.prj',\n",
       " 'data/in_same_folder/tl_2019_09_tract.shp',\n",
       " 'data/in_same_folder/tl_2019_50_tract.prj',\n",
       " 'data/in_same_folder/tl_2019_23_tract.shp',\n",
       " 'data/in_same_folder/tl_2019_33_tract.shp.iso.xml',\n",
       " 'data/in_same_folder/tl_2019_23_tract.cpg',\n",
       " 'data/in_same_folder/tl_2019_50_tract.shp.iso.xml',\n",
       " 'data/in_same_folder/tl_2019_23_tract.shx']"
      ]
     },
     "execution_count": 52,
     "metadata": {},
     "output_type": "execute_result"
    }
   ],
   "source": [
    "glob.glob('data/in_same_folder/*')  # * as our wildcard"
   ]
  },
  {
   "cell_type": "markdown",
   "metadata": {},
   "source": [
    "#### So let's say we wanted just to `glob` the `.shp` files"
   ]
  },
  {
   "cell_type": "code",
   "execution_count": 59,
   "metadata": {},
   "outputs": [
    {
     "data": {
      "text/plain": [
       "['data/in_same_folder/tl_2019_33_tract.shp',\n",
       " 'data/in_same_folder/tl_2019_44_tract.shp',\n",
       " 'data/in_same_folder/tl_2019_50_tract.shp',\n",
       " 'data/in_same_folder/tl_2019_25_tract.shp',\n",
       " 'data/in_same_folder/tl_2019_09_tract.shp',\n",
       " 'data/in_same_folder/tl_2019_23_tract.shp']"
      ]
     },
     "execution_count": 59,
     "metadata": {},
     "output_type": "execute_result"
    }
   ],
   "source": [
    "glob.glob('data/in_same_folder/*.shp')"
   ]
  },
  {
   "cell_type": "markdown",
   "metadata": {},
   "source": [
    "# Pandas Concat \n",
    "\n",
    "> The concat() function (in the main pandas namespace) does all of the heavy lifting of performing concatenation operations along an axis while performing optional set logic (union or intersection) of the indexes (if any) on the other axes. Note that I say “if any” because there is only a single possible axis of concatenation for Series. Source: https://pandas.pydata.org/pandas-docs/stable/user_guide/merging.html\n",
    "\n",
    "![concat](https://pandas.pydata.org/pandas-docs/stable/_images/merging_concat_basic.png)\n",
    "_Source: [https://pandas.pydata.org/pandas-docs/stable/user_guide/merging.html](https://pandas.pydata.org/pandas-docs/stable/user_guide/merging.html)_\n",
    "\n"
   ]
  },
  {
   "cell_type": "markdown",
   "metadata": {},
   "source": [
    "#### Let's read all the shapefiles in this directory into GeoDataFrames and then append together. "
   ]
  },
  {
   "cell_type": "code",
   "execution_count": 72,
   "metadata": {},
   "outputs": [
    {
     "name": "stdout",
     "output_type": "stream",
     "text": [
      "data/in_same_folder/tl_2019_33_tract.shp\n",
      "data/in_same_folder/tl_2019_44_tract.shp\n",
      "data/in_same_folder/tl_2019_50_tract.shp\n",
      "data/in_same_folder/tl_2019_25_tract.shp\n",
      "data/in_same_folder/tl_2019_09_tract.shp\n",
      "data/in_same_folder/tl_2019_23_tract.shp\n"
     ]
    }
   ],
   "source": [
    "list_read_shapefiles = []\n",
    "\n",
    "for shp in glob.glob('data/in_same_folder/*.shp'):\n",
    "    print(shp)\n",
    "    # read in shapefile\n",
    "    gdf = gpd.read_file(shp)  # we don't want to store all these geodataframes in-memory outside our list\n",
    "    \n",
    "    # append to list\n",
    "    list_read_shapefiles.append(gdf)\n",
    "    "
   ]
  },
  {
   "cell_type": "code",
   "execution_count": 78,
   "metadata": {},
   "outputs": [
    {
     "data": {
      "text/plain": [
       "<matplotlib.axes._subplots.AxesSubplot at 0x7f98b1eedd30>"
      ]
     },
     "execution_count": 78,
     "metadata": {},
     "output_type": "execute_result"
    },
    {
     "data": {
      "image/png": "[encoded data removed]",
      "text/plain": [
       "<Figure size 432x288 with 1 Axes>"
      ]
     },
     "metadata": {
      "needs_background": "light"
     },
     "output_type": "display_data"
    }
   ],
   "source": [
    "list_read_shapefiles[5].plot()"
   ]
  },
  {
   "cell_type": "code",
   "execution_count": 80,
   "metadata": {},
   "outputs": [],
   "source": [
    "new_england_tracts = pd.concat(list_read_shapefiles)"
   ]
  },
  {
   "cell_type": "code",
   "execution_count": 89,
   "metadata": {},
   "outputs": [
    {
     "data": {
      "image/png": "[encoded data removed]",
      "text/plain": [
       "<Figure size 432x288 with 1 Axes>"
      ]
     },
     "metadata": {
      "needs_background": "light"
     },
     "output_type": "display_data"
    }
   ],
   "source": [
    "new_england_tracts.plot(column='STATEFP');"
   ]
  },
  {
   "cell_type": "code",
   "execution_count": 88,
   "metadata": {},
   "outputs": [
    {
     "data": {
      "text/html": [
       "<div>\n",
       "<style scoped>\n",
       "    .dataframe tbody tr th:only-of-type {\n",
       "        vertical-align: middle;\n",
       "    }\n",
       "\n",
       "    .dataframe tbody tr th {\n",
       "        vertical-align: top;\n",
       "    }\n",
       "\n",
       "    .dataframe thead th {\n",
       "        text-align: right;\n",
       "    }\n",
       "</style>\n",
       "<table border=\"1\" class=\"dataframe\">\n",
       "  <thead>\n",
       "    <tr style=\"text-align: right;\">\n",
       "      <th></th>\n",
       "      <th>STATEFP</th>\n",
       "      <th>COUNTYFP</th>\n",
       "      <th>TRACTCE</th>\n",
       "      <th>GEOID</th>\n",
       "      <th>NAME</th>\n",
       "      <th>NAMELSAD</th>\n",
       "      <th>MTFCC</th>\n",
       "      <th>FUNCSTAT</th>\n",
       "      <th>ALAND</th>\n",
       "      <th>AWATER</th>\n",
       "      <th>INTPTLAT</th>\n",
       "      <th>INTPTLON</th>\n",
       "      <th>geometry</th>\n",
       "    </tr>\n",
       "  </thead>\n",
       "  <tbody>\n",
       "    <tr>\n",
       "      <th>0</th>\n",
       "      <td>33</td>\n",
       "      <td>011</td>\n",
       "      <td>013100</td>\n",
       "      <td>33011013100</td>\n",
       "      <td>131</td>\n",
       "      <td>Census Tract 131</td>\n",
       "      <td>G5020</td>\n",
       "      <td>S</td>\n",
       "      <td>38653612</td>\n",
       "      <td>1014980</td>\n",
       "      <td>+42.8460813</td>\n",
       "      <td>-071.4682830</td>\n",
       "      <td>POLYGON ((-71.48629 42.86216, -71.48616 42.863...</td>\n",
       "    </tr>\n",
       "    <tr>\n",
       "      <th>1</th>\n",
       "      <td>33</td>\n",
       "      <td>003</td>\n",
       "      <td>955600</td>\n",
       "      <td>33003955600</td>\n",
       "      <td>9556</td>\n",
       "      <td>Census Tract 9556</td>\n",
       "      <td>G5020</td>\n",
       "      <td>S</td>\n",
       "      <td>584239687</td>\n",
       "      <td>12863348</td>\n",
       "      <td>+43.8884495</td>\n",
       "      <td>-071.3244356</td>\n",
       "      <td>POLYGON ((-71.56460 43.89317, -71.56244 43.893...</td>\n",
       "    </tr>\n",
       "    <tr>\n",
       "      <th>2</th>\n",
       "      <td>33</td>\n",
       "      <td>003</td>\n",
       "      <td>955400</td>\n",
       "      <td>33003955400</td>\n",
       "      <td>9554</td>\n",
       "      <td>Census Tract 9554</td>\n",
       "      <td>G5020</td>\n",
       "      <td>S</td>\n",
       "      <td>74938224</td>\n",
       "      <td>4589643</td>\n",
       "      <td>+43.9526656</td>\n",
       "      <td>-071.0430376</td>\n",
       "      <td>POLYGON ((-71.14683 43.99324, -71.14628 43.993...</td>\n",
       "    </tr>\n",
       "    <tr>\n",
       "      <th>3</th>\n",
       "      <td>33</td>\n",
       "      <td>003</td>\n",
       "      <td>956300</td>\n",
       "      <td>33003956300</td>\n",
       "      <td>9563</td>\n",
       "      <td>Census Tract 9563</td>\n",
       "      <td>G5020</td>\n",
       "      <td>S</td>\n",
       "      <td>154607394</td>\n",
       "      <td>39847122</td>\n",
       "      <td>+43.7247587</td>\n",
       "      <td>-071.3445035</td>\n",
       "      <td>POLYGON ((-71.53233 43.76482, -71.52911 43.765...</td>\n",
       "    </tr>\n",
       "    <tr>\n",
       "      <th>4</th>\n",
       "      <td>33</td>\n",
       "      <td>003</td>\n",
       "      <td>955300</td>\n",
       "      <td>33003955300</td>\n",
       "      <td>9553</td>\n",
       "      <td>Census Tract 9553</td>\n",
       "      <td>G5020</td>\n",
       "      <td>S</td>\n",
       "      <td>251876652</td>\n",
       "      <td>2670656</td>\n",
       "      <td>+44.1274980</td>\n",
       "      <td>-071.0606912</td>\n",
       "      <td>POLYGON ((-71.16701 44.07654, -71.16669 44.076...</td>\n",
       "    </tr>\n",
       "  </tbody>\n",
       "</table>\n",
       "</div>"
      ],
      "text/plain": [
       "  STATEFP COUNTYFP TRACTCE        GEOID  NAME           NAMELSAD  MTFCC  \\\n",
       "0      33      011  013100  33011013100   131   Census Tract 131  G5020   \n",
       "1      33      003  955600  33003955600  9556  Census Tract 9556  G5020   \n",
       "2      33      003  955400  33003955400  9554  Census Tract 9554  G5020   \n",
       "3      33      003  956300  33003956300  9563  Census Tract 9563  G5020   \n",
       "4      33      003  955300  33003955300  9553  Census Tract 9553  G5020   \n",
       "\n",
       "  FUNCSTAT      ALAND    AWATER     INTPTLAT      INTPTLON  \\\n",
       "0        S   38653612   1014980  +42.8460813  -071.4682830   \n",
       "1        S  584239687  12863348  +43.8884495  -071.3244356   \n",
       "2        S   74938224   4589643  +43.9526656  -071.0430376   \n",
       "3        S  154607394  39847122  +43.7247587  -071.3445035   \n",
       "4        S  251876652   2670656  +44.1274980  -071.0606912   \n",
       "\n",
       "                                            geometry  \n",
       "0  POLYGON ((-71.48629 42.86216, -71.48616 42.863...  \n",
       "1  POLYGON ((-71.56460 43.89317, -71.56244 43.893...  \n",
       "2  POLYGON ((-71.14683 43.99324, -71.14628 43.993...  \n",
       "3  POLYGON ((-71.53233 43.76482, -71.52911 43.765...  \n",
       "4  POLYGON ((-71.16701 44.07654, -71.16669 44.076...  "
      ]
     },
     "execution_count": 88,
     "metadata": {},
     "output_type": "execute_result"
    }
   ],
   "source": [
    "new_england_tracts.head()"
   ]
  },
  {
   "cell_type": "markdown",
   "metadata": {},
   "source": [
    "#### Let's take a look at our `new_england_tracts` object"
   ]
  },
  {
   "cell_type": "code",
   "execution_count": null,
   "metadata": {},
   "outputs": [],
   "source": []
  },
  {
   "cell_type": "markdown",
   "metadata": {},
   "source": [
    "### First let's discuss\n",
    "\n",
    "# Reading Excel files with Pandas\n",
    "\n",
    "##### Let's Look at NYC NYC Department of Finance's Rolling Sales Data Excel files."
   ]
  },
  {
   "cell_type": "code",
   "execution_count": 90,
   "metadata": {
    "scrolled": true
   },
   "outputs": [
    {
     "data": {
      "text/html": [
       "\n",
       "        <iframe\n",
       "            width=\"700\"\n",
       "            height=\"400\"\n",
       "            src=\"https://www1.nyc.gov/site/finance/taxes/property-rolling-sales-data.page\"\n",
       "            frameborder=\"0\"\n",
       "            allowfullscreen\n",
       "        ></iframe>\n",
       "        "
      ],
      "text/plain": [
       "<IPython.lib.display.IFrame at 0x7f9894255320>"
      ]
     },
     "execution_count": 90,
     "metadata": {},
     "output_type": "execute_result"
    }
   ],
   "source": [
    "from IPython.display import IFrame\n",
    "IFrame(src='https://www1.nyc.gov/site/finance/taxes/property-rolling-sales-data.page', width=700, height=400)"
   ]
  },
  {
   "cell_type": "markdown",
   "metadata": {},
   "source": [
    "#### You may need to `pip install xlrd` for reading first"
   ]
  },
  {
   "cell_type": "code",
   "execution_count": 91,
   "metadata": {},
   "outputs": [
    {
     "name": "stdout",
     "output_type": "stream",
     "text": [
      "Requirement already satisfied: xlrd in /Users/danielmsheehan/opt/anaconda3/envs/savi/lib/python3.6/site-packages (1.2.0)\r\n"
     ]
    }
   ],
   "source": [
    "#!pip install xlrd"
   ]
  },
  {
   "cell_type": "code",
   "execution_count": 93,
   "metadata": {},
   "outputs": [],
   "source": [
    "df = pd.read_excel('completed/data/rollingsales_statenisland.xls')"
   ]
  },
  {
   "cell_type": "markdown",
   "metadata": {},
   "source": [
    "#### Let's take a look at our DataFrame `.head()`"
   ]
  },
  {
   "cell_type": "code",
   "execution_count": 95,
   "metadata": {},
   "outputs": [
    {
     "data": {
      "text/html": [
       "<div>\n",
       "<style scoped>\n",
       "    .dataframe tbody tr th:only-of-type {\n",
       "        vertical-align: middle;\n",
       "    }\n",
       "\n",
       "    .dataframe tbody tr th {\n",
       "        vertical-align: top;\n",
       "    }\n",
       "\n",
       "    .dataframe thead th {\n",
       "        text-align: right;\n",
       "    }\n",
       "</style>\n",
       "<table border=\"1\" class=\"dataframe\">\n",
       "  <thead>\n",
       "    <tr style=\"text-align: right;\">\n",
       "      <th></th>\n",
       "      <th>Staten Island Rolling Sales File.  All Sales From April 2019 - March 2020</th>\n",
       "      <th>Unnamed: 1</th>\n",
       "      <th>Unnamed: 2</th>\n",
       "      <th>Unnamed: 3</th>\n",
       "      <th>Unnamed: 4</th>\n",
       "      <th>Unnamed: 5</th>\n",
       "      <th>Unnamed: 6</th>\n",
       "      <th>Unnamed: 7</th>\n",
       "      <th>Unnamed: 8</th>\n",
       "      <th>Unnamed: 9</th>\n",
       "      <th>...</th>\n",
       "      <th>Unnamed: 11</th>\n",
       "      <th>Unnamed: 12</th>\n",
       "      <th>Unnamed: 13</th>\n",
       "      <th>Unnamed: 14</th>\n",
       "      <th>Unnamed: 15</th>\n",
       "      <th>Unnamed: 16</th>\n",
       "      <th>Unnamed: 17</th>\n",
       "      <th>Unnamed: 18</th>\n",
       "      <th>PTS Sales as of 04/15/2020</th>\n",
       "      <th>Unnamed: 20</th>\n",
       "    </tr>\n",
       "  </thead>\n",
       "  <tbody>\n",
       "    <tr>\n",
       "      <th>0</th>\n",
       "      <td>For sales prior to the Final, Neighborhood Nam...</td>\n",
       "      <td>NaN</td>\n",
       "      <td>NaN</td>\n",
       "      <td>NaN</td>\n",
       "      <td>NaN</td>\n",
       "      <td>NaN</td>\n",
       "      <td>NaN</td>\n",
       "      <td>NaN</td>\n",
       "      <td>NaN</td>\n",
       "      <td>NaN</td>\n",
       "      <td>...</td>\n",
       "      <td>NaN</td>\n",
       "      <td>NaN</td>\n",
       "      <td>NaN</td>\n",
       "      <td>NaN</td>\n",
       "      <td>NaN</td>\n",
       "      <td>NaN</td>\n",
       "      <td>NaN</td>\n",
       "      <td>NaN</td>\n",
       "      <td>NaN</td>\n",
       "      <td>NaN</td>\n",
       "    </tr>\n",
       "    <tr>\n",
       "      <th>1</th>\n",
       "      <td>Building Class Category is based on Building C...</td>\n",
       "      <td>NaN</td>\n",
       "      <td>NaN</td>\n",
       "      <td>NaN</td>\n",
       "      <td>NaN</td>\n",
       "      <td>NaN</td>\n",
       "      <td>NaN</td>\n",
       "      <td>NaN</td>\n",
       "      <td>NaN</td>\n",
       "      <td>NaN</td>\n",
       "      <td>...</td>\n",
       "      <td>NaN</td>\n",
       "      <td>NaN</td>\n",
       "      <td>NaN</td>\n",
       "      <td>NaN</td>\n",
       "      <td>NaN</td>\n",
       "      <td>NaN</td>\n",
       "      <td>NaN</td>\n",
       "      <td>NaN</td>\n",
       "      <td>NaN</td>\n",
       "      <td>NaN</td>\n",
       "    </tr>\n",
       "    <tr>\n",
       "      <th>2</th>\n",
       "      <td>Note: Condominium and cooperative sales are on...</td>\n",
       "      <td>NaN</td>\n",
       "      <td>NaN</td>\n",
       "      <td>NaN</td>\n",
       "      <td>NaN</td>\n",
       "      <td>NaN</td>\n",
       "      <td>NaN</td>\n",
       "      <td>NaN</td>\n",
       "      <td>NaN</td>\n",
       "      <td>NaN</td>\n",
       "      <td>...</td>\n",
       "      <td>NaN</td>\n",
       "      <td>NaN</td>\n",
       "      <td>NaN</td>\n",
       "      <td>NaN</td>\n",
       "      <td>NaN</td>\n",
       "      <td>NaN</td>\n",
       "      <td>NaN</td>\n",
       "      <td>NaN</td>\n",
       "      <td>NaN</td>\n",
       "      <td>NaN</td>\n",
       "    </tr>\n",
       "    <tr>\n",
       "      <th>3</th>\n",
       "      <td>BOROUGH</td>\n",
       "      <td>NEIGHBORHOOD</td>\n",
       "      <td>BUILDING CLASS CATEGORY</td>\n",
       "      <td>TAX CLASS AT PRESENT</td>\n",
       "      <td>BLOCK</td>\n",
       "      <td>LOT</td>\n",
       "      <td>EASE-MENT</td>\n",
       "      <td>BUILDING CLASS AT PRESENT</td>\n",
       "      <td>ADDRESS</td>\n",
       "      <td>APARTMENT NUMBER</td>\n",
       "      <td>...</td>\n",
       "      <td>RESIDENTIAL UNITS</td>\n",
       "      <td>COMMERCIAL UNITS</td>\n",
       "      <td>TOTAL UNITS</td>\n",
       "      <td>LAND SQUARE FEET</td>\n",
       "      <td>GROSS SQUARE FEET</td>\n",
       "      <td>YEAR BUILT</td>\n",
       "      <td>TAX CLASS AT TIME OF SALE</td>\n",
       "      <td>BUILDING CLASS AT TIME OF SALE</td>\n",
       "      <td>SALE PRICE</td>\n",
       "      <td>SALE DATE</td>\n",
       "    </tr>\n",
       "    <tr>\n",
       "      <th>4</th>\n",
       "      <td>5</td>\n",
       "      <td>ANNADALE</td>\n",
       "      <td>01 ONE FAMILY DWELLINGS</td>\n",
       "      <td>1</td>\n",
       "      <td>5391</td>\n",
       "      <td>13</td>\n",
       "      <td>NaN</td>\n",
       "      <td>A5</td>\n",
       "      <td>4716 AMBOY ROAD</td>\n",
       "      <td>NaN</td>\n",
       "      <td>...</td>\n",
       "      <td>1</td>\n",
       "      <td>0</td>\n",
       "      <td>1</td>\n",
       "      <td>1871</td>\n",
       "      <td>910</td>\n",
       "      <td>2002</td>\n",
       "      <td>1</td>\n",
       "      <td>A5</td>\n",
       "      <td>0</td>\n",
       "      <td>2019-07-10 00:00:00</td>\n",
       "    </tr>\n",
       "    <tr>\n",
       "      <th>5</th>\n",
       "      <td>5</td>\n",
       "      <td>ANNADALE</td>\n",
       "      <td>01 ONE FAMILY DWELLINGS</td>\n",
       "      <td>1</td>\n",
       "      <td>5395</td>\n",
       "      <td>23</td>\n",
       "      <td>NaN</td>\n",
       "      <td>A1</td>\n",
       "      <td>525 SYCAMORE STREET</td>\n",
       "      <td>NaN</td>\n",
       "      <td>...</td>\n",
       "      <td>1</td>\n",
       "      <td>0</td>\n",
       "      <td>1</td>\n",
       "      <td>10000</td>\n",
       "      <td>2848</td>\n",
       "      <td>1980</td>\n",
       "      <td>1</td>\n",
       "      <td>A1</td>\n",
       "      <td>775000</td>\n",
       "      <td>2019-12-13 00:00:00</td>\n",
       "    </tr>\n",
       "    <tr>\n",
       "      <th>6</th>\n",
       "      <td>5</td>\n",
       "      <td>ANNADALE</td>\n",
       "      <td>01 ONE FAMILY DWELLINGS</td>\n",
       "      <td>1</td>\n",
       "      <td>5398</td>\n",
       "      <td>20</td>\n",
       "      <td>NaN</td>\n",
       "      <td>A1</td>\n",
       "      <td>1468 ARDEN AVENUE</td>\n",
       "      <td>NaN</td>\n",
       "      <td>...</td>\n",
       "      <td>1</td>\n",
       "      <td>0</td>\n",
       "      <td>1</td>\n",
       "      <td>5000</td>\n",
       "      <td>2200</td>\n",
       "      <td>1940</td>\n",
       "      <td>1</td>\n",
       "      <td>A1</td>\n",
       "      <td>685000</td>\n",
       "      <td>2019-04-15 00:00:00</td>\n",
       "    </tr>\n",
       "    <tr>\n",
       "      <th>7</th>\n",
       "      <td>5</td>\n",
       "      <td>ANNADALE</td>\n",
       "      <td>01 ONE FAMILY DWELLINGS</td>\n",
       "      <td>1</td>\n",
       "      <td>5399</td>\n",
       "      <td>33</td>\n",
       "      <td>NaN</td>\n",
       "      <td>A2</td>\n",
       "      <td>247 KOCH BOULEVARD</td>\n",
       "      <td>NaN</td>\n",
       "      <td>...</td>\n",
       "      <td>1</td>\n",
       "      <td>0</td>\n",
       "      <td>1</td>\n",
       "      <td>7035</td>\n",
       "      <td>1528</td>\n",
       "      <td>1970</td>\n",
       "      <td>1</td>\n",
       "      <td>A2</td>\n",
       "      <td>0</td>\n",
       "      <td>2019-08-07 00:00:00</td>\n",
       "    </tr>\n",
       "    <tr>\n",
       "      <th>8</th>\n",
       "      <td>5</td>\n",
       "      <td>ANNADALE</td>\n",
       "      <td>01 ONE FAMILY DWELLINGS</td>\n",
       "      <td>1</td>\n",
       "      <td>5407</td>\n",
       "      <td>39</td>\n",
       "      <td>NaN</td>\n",
       "      <td>B2</td>\n",
       "      <td>193 BATHGATE STREET</td>\n",
       "      <td>NaN</td>\n",
       "      <td>...</td>\n",
       "      <td>2</td>\n",
       "      <td>0</td>\n",
       "      <td>2</td>\n",
       "      <td>5000</td>\n",
       "      <td>2800</td>\n",
       "      <td>2018</td>\n",
       "      <td>1</td>\n",
       "      <td>A2</td>\n",
       "      <td>1221900</td>\n",
       "      <td>2019-05-09 00:00:00</td>\n",
       "    </tr>\n",
       "    <tr>\n",
       "      <th>9</th>\n",
       "      <td>5</td>\n",
       "      <td>ANNADALE</td>\n",
       "      <td>01 ONE FAMILY DWELLINGS</td>\n",
       "      <td>1</td>\n",
       "      <td>5425</td>\n",
       "      <td>19</td>\n",
       "      <td>NaN</td>\n",
       "      <td>A1</td>\n",
       "      <td>9 SANDGAP STREET</td>\n",
       "      <td>NaN</td>\n",
       "      <td>...</td>\n",
       "      <td>1</td>\n",
       "      <td>0</td>\n",
       "      <td>1</td>\n",
       "      <td>2500</td>\n",
       "      <td>1744</td>\n",
       "      <td>1950</td>\n",
       "      <td>1</td>\n",
       "      <td>A1</td>\n",
       "      <td>520000</td>\n",
       "      <td>2019-08-14 00:00:00</td>\n",
       "    </tr>\n",
       "  </tbody>\n",
       "</table>\n",
       "<p>10 rows × 21 columns</p>\n",
       "</div>"
      ],
      "text/plain": [
       "  Staten Island Rolling Sales File.  All Sales From April 2019 - March 2020  \\\n",
       "0  For sales prior to the Final, Neighborhood Nam...                          \n",
       "1  Building Class Category is based on Building C...                          \n",
       "2  Note: Condominium and cooperative sales are on...                          \n",
       "3                                            BOROUGH                          \n",
       "4                                                  5                          \n",
       "5                                                  5                          \n",
       "6                                                  5                          \n",
       "7                                                  5                          \n",
       "8                                                  5                          \n",
       "9                                                  5                          \n",
       "\n",
       "     Unnamed: 1               Unnamed: 2            Unnamed: 3 Unnamed: 4  \\\n",
       "0           NaN                      NaN                   NaN        NaN   \n",
       "1           NaN                      NaN                   NaN        NaN   \n",
       "2           NaN                      NaN                   NaN        NaN   \n",
       "3  NEIGHBORHOOD  BUILDING CLASS CATEGORY  TAX CLASS AT PRESENT      BLOCK   \n",
       "4      ANNADALE  01 ONE FAMILY DWELLINGS                     1       5391   \n",
       "5      ANNADALE  01 ONE FAMILY DWELLINGS                     1       5395   \n",
       "6      ANNADALE  01 ONE FAMILY DWELLINGS                     1       5398   \n",
       "7      ANNADALE  01 ONE FAMILY DWELLINGS                     1       5399   \n",
       "8      ANNADALE  01 ONE FAMILY DWELLINGS                     1       5407   \n",
       "9      ANNADALE  01 ONE FAMILY DWELLINGS                     1       5425   \n",
       "\n",
       "  Unnamed: 5 Unnamed: 6                 Unnamed: 7           Unnamed: 8  \\\n",
       "0        NaN        NaN                        NaN                  NaN   \n",
       "1        NaN        NaN                        NaN                  NaN   \n",
       "2        NaN        NaN                        NaN                  NaN   \n",
       "3        LOT  EASE-MENT  BUILDING CLASS AT PRESENT              ADDRESS   \n",
       "4         13        NaN                         A5      4716 AMBOY ROAD   \n",
       "5         23        NaN                         A1  525 SYCAMORE STREET   \n",
       "6         20        NaN                         A1    1468 ARDEN AVENUE   \n",
       "7         33        NaN                         A2   247 KOCH BOULEVARD   \n",
       "8         39        NaN                         B2  193 BATHGATE STREET   \n",
       "9         19        NaN                         A1     9 SANDGAP STREET   \n",
       "\n",
       "         Unnamed: 9  ...        Unnamed: 11       Unnamed: 12  Unnamed: 13  \\\n",
       "0               NaN  ...                NaN               NaN          NaN   \n",
       "1               NaN  ...                NaN               NaN          NaN   \n",
       "2               NaN  ...                NaN               NaN          NaN   \n",
       "3  APARTMENT NUMBER  ...  RESIDENTIAL UNITS  COMMERCIAL UNITS  TOTAL UNITS   \n",
       "4               NaN  ...                  1                 0            1   \n",
       "5               NaN  ...                  1                 0            1   \n",
       "6               NaN  ...                  1                 0            1   \n",
       "7               NaN  ...                  1                 0            1   \n",
       "8               NaN  ...                  2                 0            2   \n",
       "9               NaN  ...                  1                 0            1   \n",
       "\n",
       "        Unnamed: 14        Unnamed: 15 Unnamed: 16                Unnamed: 17  \\\n",
       "0               NaN                NaN         NaN                        NaN   \n",
       "1               NaN                NaN         NaN                        NaN   \n",
       "2               NaN                NaN         NaN                        NaN   \n",
       "3  LAND SQUARE FEET  GROSS SQUARE FEET  YEAR BUILT  TAX CLASS AT TIME OF SALE   \n",
       "4              1871                910        2002                          1   \n",
       "5             10000               2848        1980                          1   \n",
       "6              5000               2200        1940                          1   \n",
       "7              7035               1528        1970                          1   \n",
       "8              5000               2800        2018                          1   \n",
       "9              2500               1744        1950                          1   \n",
       "\n",
       "                      Unnamed: 18 PTS Sales as of 04/15/2020  \\\n",
       "0                             NaN                        NaN   \n",
       "1                             NaN                        NaN   \n",
       "2                             NaN                        NaN   \n",
       "3  BUILDING CLASS AT TIME OF SALE                 SALE PRICE   \n",
       "4                              A5                          0   \n",
       "5                              A1                     775000   \n",
       "6                              A1                     685000   \n",
       "7                              A2                          0   \n",
       "8                              A2                    1221900   \n",
       "9                              A1                     520000   \n",
       "\n",
       "           Unnamed: 20  \n",
       "0                  NaN  \n",
       "1                  NaN  \n",
       "2                  NaN  \n",
       "3            SALE DATE  \n",
       "4  2019-07-10 00:00:00  \n",
       "5  2019-12-13 00:00:00  \n",
       "6  2019-04-15 00:00:00  \n",
       "7  2019-08-07 00:00:00  \n",
       "8  2019-05-09 00:00:00  \n",
       "9  2019-08-14 00:00:00  \n",
       "\n",
       "[10 rows x 21 columns]"
      ]
     },
     "execution_count": 95,
     "metadata": {},
     "output_type": "execute_result"
    }
   ],
   "source": [
    "df.head(10)"
   ]
  },
  {
   "cell_type": "markdown",
   "metadata": {},
   "source": [
    "#### What's wrong here? "
   ]
  },
  {
   "cell_type": "markdown",
   "metadata": {},
   "source": [
    "#### Let's look the file in Excel \n",
    "\n",
    "![https://raw.githubusercontent.com/pratt-savi-810/images/master/rolling_sales_head.png](https://raw.githubusercontent.com/pratt-savi-810/images/master/rolling_sales_head.png)"
   ]
  },
  {
   "cell_type": "markdown",
   "metadata": {},
   "source": [
    "#### Let's specify the header row with the `header` argument in `pd.read_excel()`\n",
    "\n",
    "Remember, Python uses 0 index, Excel uses 1 for first row. "
   ]
  },
  {
   "cell_type": "code",
   "execution_count": 111,
   "metadata": {},
   "outputs": [],
   "source": [
    "df = pd.read_excel('completed/data/rollingsales_statenisland.xls', header=[4])"
   ]
  },
  {
   "cell_type": "code",
   "execution_count": 112,
   "metadata": {},
   "outputs": [
    {
     "data": {
      "text/html": [
       "<div>\n",
       "<style scoped>\n",
       "    .dataframe tbody tr th:only-of-type {\n",
       "        vertical-align: middle;\n",
       "    }\n",
       "\n",
       "    .dataframe tbody tr th {\n",
       "        vertical-align: top;\n",
       "    }\n",
       "\n",
       "    .dataframe thead th {\n",
       "        text-align: right;\n",
       "    }\n",
       "</style>\n",
       "<table border=\"1\" class=\"dataframe\">\n",
       "  <thead>\n",
       "    <tr style=\"text-align: right;\">\n",
       "      <th></th>\n",
       "      <th>BOROUGH</th>\n",
       "      <th>NEIGHBORHOOD</th>\n",
       "      <th>BUILDING CLASS CATEGORY</th>\n",
       "      <th>TAX CLASS AT PRESENT</th>\n",
       "      <th>BLOCK</th>\n",
       "      <th>LOT</th>\n",
       "      <th>EASE-MENT</th>\n",
       "      <th>BUILDING CLASS AT PRESENT</th>\n",
       "      <th>ADDRESS</th>\n",
       "      <th>APARTMENT NUMBER</th>\n",
       "      <th>...</th>\n",
       "      <th>RESIDENTIAL UNITS</th>\n",
       "      <th>COMMERCIAL UNITS</th>\n",
       "      <th>TOTAL UNITS</th>\n",
       "      <th>LAND SQUARE FEET</th>\n",
       "      <th>GROSS SQUARE FEET</th>\n",
       "      <th>YEAR BUILT</th>\n",
       "      <th>TAX CLASS AT TIME OF SALE</th>\n",
       "      <th>BUILDING CLASS AT TIME OF SALE</th>\n",
       "      <th>SALE PRICE</th>\n",
       "      <th>SALE DATE</th>\n",
       "    </tr>\n",
       "  </thead>\n",
       "  <tbody>\n",
       "    <tr>\n",
       "      <th>0</th>\n",
       "      <td>5</td>\n",
       "      <td>ANNADALE</td>\n",
       "      <td>01 ONE FAMILY DWELLINGS</td>\n",
       "      <td>1</td>\n",
       "      <td>5391</td>\n",
       "      <td>13</td>\n",
       "      <td>NaN</td>\n",
       "      <td>A5</td>\n",
       "      <td>4716 AMBOY ROAD</td>\n",
       "      <td>NaN</td>\n",
       "      <td>...</td>\n",
       "      <td>1.0</td>\n",
       "      <td>0.0</td>\n",
       "      <td>1.0</td>\n",
       "      <td>1871.0</td>\n",
       "      <td>910.0</td>\n",
       "      <td>2002.0</td>\n",
       "      <td>1</td>\n",
       "      <td>A5</td>\n",
       "      <td>0</td>\n",
       "      <td>2019-07-10</td>\n",
       "    </tr>\n",
       "    <tr>\n",
       "      <th>1</th>\n",
       "      <td>5</td>\n",
       "      <td>ANNADALE</td>\n",
       "      <td>01 ONE FAMILY DWELLINGS</td>\n",
       "      <td>1</td>\n",
       "      <td>5395</td>\n",
       "      <td>23</td>\n",
       "      <td>NaN</td>\n",
       "      <td>A1</td>\n",
       "      <td>525 SYCAMORE STREET</td>\n",
       "      <td>NaN</td>\n",
       "      <td>...</td>\n",
       "      <td>1.0</td>\n",
       "      <td>0.0</td>\n",
       "      <td>1.0</td>\n",
       "      <td>10000.0</td>\n",
       "      <td>2848.0</td>\n",
       "      <td>1980.0</td>\n",
       "      <td>1</td>\n",
       "      <td>A1</td>\n",
       "      <td>775000</td>\n",
       "      <td>2019-12-13</td>\n",
       "    </tr>\n",
       "    <tr>\n",
       "      <th>2</th>\n",
       "      <td>5</td>\n",
       "      <td>ANNADALE</td>\n",
       "      <td>01 ONE FAMILY DWELLINGS</td>\n",
       "      <td>1</td>\n",
       "      <td>5398</td>\n",
       "      <td>20</td>\n",
       "      <td>NaN</td>\n",
       "      <td>A1</td>\n",
       "      <td>1468 ARDEN AVENUE</td>\n",
       "      <td>NaN</td>\n",
       "      <td>...</td>\n",
       "      <td>1.0</td>\n",
       "      <td>0.0</td>\n",
       "      <td>1.0</td>\n",
       "      <td>5000.0</td>\n",
       "      <td>2200.0</td>\n",
       "      <td>1940.0</td>\n",
       "      <td>1</td>\n",
       "      <td>A1</td>\n",
       "      <td>685000</td>\n",
       "      <td>2019-04-15</td>\n",
       "    </tr>\n",
       "    <tr>\n",
       "      <th>3</th>\n",
       "      <td>5</td>\n",
       "      <td>ANNADALE</td>\n",
       "      <td>01 ONE FAMILY DWELLINGS</td>\n",
       "      <td>1</td>\n",
       "      <td>5399</td>\n",
       "      <td>33</td>\n",
       "      <td>NaN</td>\n",
       "      <td>A2</td>\n",
       "      <td>247 KOCH BOULEVARD</td>\n",
       "      <td>NaN</td>\n",
       "      <td>...</td>\n",
       "      <td>1.0</td>\n",
       "      <td>0.0</td>\n",
       "      <td>1.0</td>\n",
       "      <td>7035.0</td>\n",
       "      <td>1528.0</td>\n",
       "      <td>1970.0</td>\n",
       "      <td>1</td>\n",
       "      <td>A2</td>\n",
       "      <td>0</td>\n",
       "      <td>2019-08-07</td>\n",
       "    </tr>\n",
       "    <tr>\n",
       "      <th>4</th>\n",
       "      <td>5</td>\n",
       "      <td>ANNADALE</td>\n",
       "      <td>01 ONE FAMILY DWELLINGS</td>\n",
       "      <td>1</td>\n",
       "      <td>5407</td>\n",
       "      <td>39</td>\n",
       "      <td>NaN</td>\n",
       "      <td>B2</td>\n",
       "      <td>193 BATHGATE STREET</td>\n",
       "      <td>NaN</td>\n",
       "      <td>...</td>\n",
       "      <td>2.0</td>\n",
       "      <td>0.0</td>\n",
       "      <td>2.0</td>\n",
       "      <td>5000.0</td>\n",
       "      <td>2800.0</td>\n",
       "      <td>2018.0</td>\n",
       "      <td>1</td>\n",
       "      <td>A2</td>\n",
       "      <td>1221900</td>\n",
       "      <td>2019-05-09</td>\n",
       "    </tr>\n",
       "    <tr>\n",
       "      <th>...</th>\n",
       "      <td>...</td>\n",
       "      <td>...</td>\n",
       "      <td>...</td>\n",
       "      <td>...</td>\n",
       "      <td>...</td>\n",
       "      <td>...</td>\n",
       "      <td>...</td>\n",
       "      <td>...</td>\n",
       "      <td>...</td>\n",
       "      <td>...</td>\n",
       "      <td>...</td>\n",
       "      <td>...</td>\n",
       "      <td>...</td>\n",
       "      <td>...</td>\n",
       "      <td>...</td>\n",
       "      <td>...</td>\n",
       "      <td>...</td>\n",
       "      <td>...</td>\n",
       "      <td>...</td>\n",
       "      <td>...</td>\n",
       "      <td>...</td>\n",
       "    </tr>\n",
       "    <tr>\n",
       "      <th>7771</th>\n",
       "      <td>5</td>\n",
       "      <td>WOODROW</td>\n",
       "      <td>02 TWO FAMILY DWELLINGS</td>\n",
       "      <td>1</td>\n",
       "      <td>7355</td>\n",
       "      <td>95</td>\n",
       "      <td>NaN</td>\n",
       "      <td>B9</td>\n",
       "      <td>115 AMBASSADOR LANE</td>\n",
       "      <td>NaN</td>\n",
       "      <td>...</td>\n",
       "      <td>2.0</td>\n",
       "      <td>0.0</td>\n",
       "      <td>2.0</td>\n",
       "      <td>8846.0</td>\n",
       "      <td>1710.0</td>\n",
       "      <td>2001.0</td>\n",
       "      <td>1</td>\n",
       "      <td>B9</td>\n",
       "      <td>637500</td>\n",
       "      <td>2019-08-20</td>\n",
       "    </tr>\n",
       "    <tr>\n",
       "      <th>7772</th>\n",
       "      <td>5</td>\n",
       "      <td>WOODROW</td>\n",
       "      <td>05 TAX CLASS 1 VACANT LAND</td>\n",
       "      <td>1</td>\n",
       "      <td>7094</td>\n",
       "      <td>48</td>\n",
       "      <td>NaN</td>\n",
       "      <td>B9</td>\n",
       "      <td>108 BERKSHIRE LANE</td>\n",
       "      <td>NaN</td>\n",
       "      <td>...</td>\n",
       "      <td>2.0</td>\n",
       "      <td>0.0</td>\n",
       "      <td>2.0</td>\n",
       "      <td>0.0</td>\n",
       "      <td>0.0</td>\n",
       "      <td>2018.0</td>\n",
       "      <td>1</td>\n",
       "      <td>V0</td>\n",
       "      <td>599701</td>\n",
       "      <td>2019-04-24</td>\n",
       "    </tr>\n",
       "    <tr>\n",
       "      <th>7773</th>\n",
       "      <td>5</td>\n",
       "      <td>WOODROW</td>\n",
       "      <td>05 TAX CLASS 1 VACANT LAND</td>\n",
       "      <td>1</td>\n",
       "      <td>7094</td>\n",
       "      <td>49</td>\n",
       "      <td>NaN</td>\n",
       "      <td>B9</td>\n",
       "      <td>35 WILTSHIRE LANE</td>\n",
       "      <td>NaN</td>\n",
       "      <td>...</td>\n",
       "      <td>2.0</td>\n",
       "      <td>0.0</td>\n",
       "      <td>2.0</td>\n",
       "      <td>0.0</td>\n",
       "      <td>0.0</td>\n",
       "      <td>2018.0</td>\n",
       "      <td>1</td>\n",
       "      <td>V0</td>\n",
       "      <td>896060</td>\n",
       "      <td>2019-04-22</td>\n",
       "    </tr>\n",
       "    <tr>\n",
       "      <th>7774</th>\n",
       "      <td>5</td>\n",
       "      <td>WOODROW</td>\n",
       "      <td>05 TAX CLASS 1 VACANT LAND</td>\n",
       "      <td>1B</td>\n",
       "      <td>7349</td>\n",
       "      <td>28</td>\n",
       "      <td>NaN</td>\n",
       "      <td>V0</td>\n",
       "      <td>N/A QUAIL LANE</td>\n",
       "      <td>NaN</td>\n",
       "      <td>...</td>\n",
       "      <td>0.0</td>\n",
       "      <td>0.0</td>\n",
       "      <td>0.0</td>\n",
       "      <td>2640.0</td>\n",
       "      <td>0.0</td>\n",
       "      <td>NaN</td>\n",
       "      <td>1</td>\n",
       "      <td>V0</td>\n",
       "      <td>26000</td>\n",
       "      <td>2019-08-22</td>\n",
       "    </tr>\n",
       "    <tr>\n",
       "      <th>7775</th>\n",
       "      <td>5</td>\n",
       "      <td>WOODROW</td>\n",
       "      <td>06 TAX CLASS 1 - OTHER</td>\n",
       "      <td>1</td>\n",
       "      <td>7267</td>\n",
       "      <td>129</td>\n",
       "      <td>NaN</td>\n",
       "      <td>G0</td>\n",
       "      <td>22 CLAY PIT ROAD</td>\n",
       "      <td>NaN</td>\n",
       "      <td>...</td>\n",
       "      <td>0.0</td>\n",
       "      <td>0.0</td>\n",
       "      <td>0.0</td>\n",
       "      <td>7920.0</td>\n",
       "      <td>0.0</td>\n",
       "      <td>2011.0</td>\n",
       "      <td>1</td>\n",
       "      <td>G0</td>\n",
       "      <td>0</td>\n",
       "      <td>2019-05-22</td>\n",
       "    </tr>\n",
       "  </tbody>\n",
       "</table>\n",
       "<p>7776 rows × 21 columns</p>\n",
       "</div>"
      ],
      "text/plain": [
       "      BOROUGH NEIGHBORHOOD     BUILDING CLASS CATEGORY TAX CLASS AT PRESENT  \\\n",
       "0           5     ANNADALE     01 ONE FAMILY DWELLINGS                    1   \n",
       "1           5     ANNADALE     01 ONE FAMILY DWELLINGS                    1   \n",
       "2           5     ANNADALE     01 ONE FAMILY DWELLINGS                    1   \n",
       "3           5     ANNADALE     01 ONE FAMILY DWELLINGS                    1   \n",
       "4           5     ANNADALE     01 ONE FAMILY DWELLINGS                    1   \n",
       "...       ...          ...                         ...                  ...   \n",
       "7771        5      WOODROW     02 TWO FAMILY DWELLINGS                    1   \n",
       "7772        5      WOODROW  05 TAX CLASS 1 VACANT LAND                    1   \n",
       "7773        5      WOODROW  05 TAX CLASS 1 VACANT LAND                    1   \n",
       "7774        5      WOODROW  05 TAX CLASS 1 VACANT LAND                   1B   \n",
       "7775        5      WOODROW      06 TAX CLASS 1 - OTHER                    1   \n",
       "\n",
       "      BLOCK  LOT  EASE-MENT BUILDING CLASS AT PRESENT              ADDRESS  \\\n",
       "0      5391   13        NaN                        A5      4716 AMBOY ROAD   \n",
       "1      5395   23        NaN                        A1  525 SYCAMORE STREET   \n",
       "2      5398   20        NaN                        A1    1468 ARDEN AVENUE   \n",
       "3      5399   33        NaN                        A2   247 KOCH BOULEVARD   \n",
       "4      5407   39        NaN                        B2  193 BATHGATE STREET   \n",
       "...     ...  ...        ...                       ...                  ...   \n",
       "7771   7355   95        NaN                        B9  115 AMBASSADOR LANE   \n",
       "7772   7094   48        NaN                        B9   108 BERKSHIRE LANE   \n",
       "7773   7094   49        NaN                        B9    35 WILTSHIRE LANE   \n",
       "7774   7349   28        NaN                        V0       N/A QUAIL LANE   \n",
       "7775   7267  129        NaN                        G0     22 CLAY PIT ROAD   \n",
       "\n",
       "     APARTMENT NUMBER  ...  RESIDENTIAL UNITS  COMMERCIAL UNITS  TOTAL UNITS  \\\n",
       "0                 NaN  ...                1.0               0.0          1.0   \n",
       "1                 NaN  ...                1.0               0.0          1.0   \n",
       "2                 NaN  ...                1.0               0.0          1.0   \n",
       "3                 NaN  ...                1.0               0.0          1.0   \n",
       "4                 NaN  ...                2.0               0.0          2.0   \n",
       "...               ...  ...                ...               ...          ...   \n",
       "7771              NaN  ...                2.0               0.0          2.0   \n",
       "7772              NaN  ...                2.0               0.0          2.0   \n",
       "7773              NaN  ...                2.0               0.0          2.0   \n",
       "7774              NaN  ...                0.0               0.0          0.0   \n",
       "7775              NaN  ...                0.0               0.0          0.0   \n",
       "\n",
       "      LAND SQUARE FEET  GROSS SQUARE FEET  YEAR BUILT  \\\n",
       "0               1871.0              910.0      2002.0   \n",
       "1              10000.0             2848.0      1980.0   \n",
       "2               5000.0             2200.0      1940.0   \n",
       "3               7035.0             1528.0      1970.0   \n",
       "4               5000.0             2800.0      2018.0   \n",
       "...                ...                ...         ...   \n",
       "7771            8846.0             1710.0      2001.0   \n",
       "7772               0.0                0.0      2018.0   \n",
       "7773               0.0                0.0      2018.0   \n",
       "7774            2640.0                0.0         NaN   \n",
       "7775            7920.0                0.0      2011.0   \n",
       "\n",
       "      TAX CLASS AT TIME OF SALE  BUILDING CLASS AT TIME OF SALE SALE PRICE  \\\n",
       "0                             1                              A5          0   \n",
       "1                             1                              A1     775000   \n",
       "2                             1                              A1     685000   \n",
       "3                             1                              A2          0   \n",
       "4                             1                              A2    1221900   \n",
       "...                         ...                             ...        ...   \n",
       "7771                          1                              B9     637500   \n",
       "7772                          1                              V0     599701   \n",
       "7773                          1                              V0     896060   \n",
       "7774                          1                              V0      26000   \n",
       "7775                          1                              G0          0   \n",
       "\n",
       "      SALE DATE  \n",
       "0    2019-07-10  \n",
       "1    2019-12-13  \n",
       "2    2019-04-15  \n",
       "3    2019-08-07  \n",
       "4    2019-05-09  \n",
       "...         ...  \n",
       "7771 2019-08-20  \n",
       "7772 2019-04-24  \n",
       "7773 2019-04-22  \n",
       "7774 2019-08-22  \n",
       "7775 2019-05-22  \n",
       "\n",
       "[7776 rows x 21 columns]"
      ]
     },
     "execution_count": 112,
     "metadata": {},
     "output_type": "execute_result"
    }
   ],
   "source": [
    "df"
   ]
  },
  {
   "cell_type": "markdown",
   "metadata": {},
   "source": [
    "# Let's write a function to Extract NYC Department of Finance's Rolling Sales Data "
   ]
  },
  {
   "cell_type": "code",
   "execution_count": 119,
   "metadata": {},
   "outputs": [],
   "source": [
    "file_urls = [\n",
    "    'https://www1.nyc.gov/assets/finance/downloads/pdf/rolling_sales/rollingsales_manhattan.xls',\n",
    "    'https://www1.nyc.gov/assets/finance/downloads/pdf/rolling_sales/rollingsales_bronx.xls',\n",
    "    'https://www1.nyc.gov/assets/finance/downloads/pdf/rolling_sales/rollingsales_brooklyn.xls',\n",
    "    'https://www1.nyc.gov/assets/finance/downloads/pdf/rolling_sales/rollingsales_queens.xls', \n",
    "    'https://www1.nyc.gov/assets/finance/downloads/pdf/rolling_sales/rollingsales_statenisland.xls', \n",
    "]"
   ]
  },
  {
   "cell_type": "code",
   "execution_count": 116,
   "metadata": {},
   "outputs": [],
   "source": [
    "def nyc_rolling_sales(list_urls):\n",
    "    row_counter = 0   # count each .xls file rows, and add each count of rows to this row counter\n",
    "    \n",
    "    df_list = []  # my list to append df's to \n",
    "    \n",
    "    for f in list_urls:\n",
    "        print(f)\n",
    "        \n",
    "        df = pd.read_excel(f, header=4) # accepts one xls file. \n",
    "        \n",
    "        rows = df.shape[0]  # how do i access the count of rows for a DataFrame\n",
    "        print(rows)\n",
    "        row_counter += rows   # starts w/ row_counter is 0 + 1,000 \n",
    "        \n",
    "        df_list.append(df)\n",
    "        \n",
    "    df_all = pd.concat(df_list)  # converting list of dataframes to one dataframe\n",
    "    \n",
    "    print(f'total rows: {row_counter}')\n",
    "    \n",
    "    return df_all \n"
   ]
  },
  {
   "cell_type": "code",
   "execution_count": 121,
   "metadata": {},
   "outputs": [
    {
     "name": "stdout",
     "output_type": "stream",
     "text": [
      "https://www1.nyc.gov/assets/finance/downloads/pdf/rolling_sales/rollingsales_manhattan.xls\n",
      "17315\n",
      "https://www1.nyc.gov/assets/finance/downloads/pdf/rolling_sales/rollingsales_bronx.xls\n",
      "8000\n",
      "https://www1.nyc.gov/assets/finance/downloads/pdf/rolling_sales/rollingsales_brooklyn.xls\n",
      "22713\n",
      "https://www1.nyc.gov/assets/finance/downloads/pdf/rolling_sales/rollingsales_queens.xls\n",
      "25680\n",
      "https://www1.nyc.gov/assets/finance/downloads/pdf/rolling_sales/rollingsales_statenisland.xls\n",
      "7776\n",
      "total rows: 81484\n"
     ]
    }
   ],
   "source": [
    "df_all_rolling_sales = nyc_rolling_sales(file_urls)"
   ]
  },
  {
   "cell_type": "code",
   "execution_count": 122,
   "metadata": {},
   "outputs": [
    {
     "data": {
      "text/plain": [
       "81484"
      ]
     },
     "execution_count": 122,
     "metadata": {},
     "output_type": "execute_result"
    }
   ],
   "source": [
    "17315 + 8000 + 22713 + 25680 + 7776"
   ]
  },
  {
   "cell_type": "markdown",
   "metadata": {},
   "source": [
    "#### Verify the `.shape` of our DataFrame object `df_all`"
   ]
  },
  {
   "cell_type": "code",
   "execution_count": 124,
   "metadata": {},
   "outputs": [
    {
     "data": {
      "text/plain": [
       "(81484, 21)"
      ]
     },
     "execution_count": 124,
     "metadata": {},
     "output_type": "execute_result"
    }
   ],
   "source": [
    "df_all_rolling_sales.shape"
   ]
  },
  {
   "cell_type": "code",
   "execution_count": 125,
   "metadata": {},
   "outputs": [],
   "source": [
    "df.to_csv('data/all_rolling_sales.csv', index=False)"
   ]
  },
  {
   "cell_type": "markdown",
   "metadata": {},
   "source": [
    "# Python Mapping Cont'd"
   ]
  },
  {
   "cell_type": "markdown",
   "metadata": {},
   "source": [
    "#### Let's import NYC NTA Boundaries and generate a GeoDataFrame"
   ]
  },
  {
   "cell_type": "code",
   "execution_count": null,
   "metadata": {},
   "outputs": [],
   "source": [
    "nyc_nta_geojson = 'https://data.cityofnewyork.us/api/geospatial/cpf4-rkhq?method=export&format=GeoJSON'\n",
    "\n",
    "nta_gdf = gpd.read_file(nyc_nta_geojson)\n",
    "nta_gdf.to_crs(epsg=2263, inplace=True)"
   ]
  },
  {
   "cell_type": "markdown",
   "metadata": {},
   "source": [
    "# Pickup Here from last Monday\n",
    "\n",
    "## Legend\n",
    "\n",
    "PyPlot Legends : https://matplotlib.org/3.2.1/api/_as_gen/matplotlib.pyplot.legend.html\n"
   ]
  },
  {
   "cell_type": "code",
   "execution_count": null,
   "metadata": {},
   "outputs": [],
   "source": [
    "fig, ax = plt.subplots(figsize=(14, 10))\n",
    "\n",
    "### plot code here\n",
    "\n",
    "ax.set_title('Map Title', fontdict={'size': 30});"
   ]
  },
  {
   "cell_type": "markdown",
   "metadata": {},
   "source": [
    "## Annotate Data Source\n"
   ]
  },
  {
   "cell_type": "code",
   "execution_count": null,
   "metadata": {},
   "outputs": [],
   "source": [
    "fig, ax = plt.subplots(figsize=(14, 10))\n",
    "\n",
    "nta_gdf.plot(\n",
    "    ax=ax, \n",
    "    column='boro_name', \n",
    "    legend=True, \n",
    "    cmap='Dark2', \n",
    "    legend_kwds={\n",
    "        'loc': 2,\n",
    "        'shadow': True,\n",
    "        # 'facecolor': 'lightgray',\n",
    "    })\n",
    "\n",
    "\n",
    "### annotate code here\n",
    "\n",
    "ax.set_title('Map Title', fontdict={'size': 30});"
   ]
  },
  {
   "cell_type": "markdown",
   "metadata": {},
   "source": [
    "#### More on annotation: https://jakevdp.github.io/PythonDataScienceHandbook/04.09-text-and-annotation.html"
   ]
  },
  {
   "cell_type": "markdown",
   "metadata": {},
   "source": [
    "## Turn off the axis and neatline "
   ]
  },
  {
   "cell_type": "code",
   "execution_count": null,
   "metadata": {},
   "outputs": [],
   "source": [
    "fig, ax = plt.subplots(figsize=(14, 10))\n",
    "\n",
    "nta_gdf.plot(\n",
    "    ax=ax, \n",
    "    column='boro_name', \n",
    "    legend=True, \n",
    "    cmap='Dark2', \n",
    "    legend_kwds={\n",
    "        'loc': 2,\n",
    "        'shadow': True,\n",
    "        # 'facecolor': 'lightgray',\n",
    "    })\n",
    "\n",
    "ax.annotate(\n",
    "    'Source: NYC Open Data', \n",
    "    xy=(10, 10),  # points from lower left\n",
    "    xycoords='axes points',  # select where \n",
    "    size=10, \n",
    ")\n",
    "\n",
    "### axis False code here\n",
    "\n",
    "ax.set_title('New York City Boroughs', fontdict={'size': 30});"
   ]
  },
  {
   "cell_type": "code",
   "execution_count": null,
   "metadata": {},
   "outputs": [],
   "source": [
    "fig, ax = plt.subplots(figsize=(14, 10))\n",
    "\n",
    "nta_gdf.plot(\n",
    "    ax=ax, \n",
    "    column='boro_name', \n",
    "    legend=True, \n",
    "    cmap='Dark2', \n",
    "    legend_kwds={\n",
    "        'loc': 2,\n",
    "        'shadow': True,\n",
    "        # 'facecolor': 'lightgray',\n",
    "    })\n",
    "\n",
    "ax.annotate(\n",
    "    'Source: NYC Open Data', \n",
    "    xy=(10, 10),  # points from lower left\n",
    "    xycoords='axes points',  # select where \n",
    "    size=10, \n",
    ")\n",
    "\n",
    "#### Axis off code here\n",
    "\n",
    "ax.set_title('New York City Boroughs', fontdict={'size': 30});"
   ]
  },
  {
   "cell_type": "markdown",
   "metadata": {},
   "source": [
    "# Basemaps with Contextily\n",
    "\n",
    "> contextily is a small Python 3 package to retrieve and write to disk tile maps from the internet into geospatial raster files. Bounding boxes can be passed in both WGS84 (EPSG:4326) and Spheric Mercator (EPSG:3857). See the notebook contextily_guide.ipynb for usage. Source: https://github.com/darribas/contextily"
   ]
  },
  {
   "cell_type": "code",
   "execution_count": null,
   "metadata": {},
   "outputs": [],
   "source": []
  },
  {
   "cell_type": "code",
   "execution_count": null,
   "metadata": {},
   "outputs": [],
   "source": [
    "fig, ax = plt.subplots(figsize=(14, 14))\n",
    "\n",
    "nta_gdf.to_crs(epsg=3857).plot(\n",
    "    ax=ax, \n",
    "    column='boro_name', \n",
    "    legend=True, \n",
    "    cmap='Dark2', \n",
    "    alpha=0.7,\n",
    "    legend_kwds={\n",
    "        'loc': 2,\n",
    "        'shadow': True,\n",
    "    })\n",
    "\n",
    "\n",
    "### Contextily code here\n",
    "\n",
    "ax.axis('off')\n",
    "\n",
    "ax.set_title('New York City Boroughs', fontdict={'size': 20});"
   ]
  },
  {
   "cell_type": "markdown",
   "metadata": {},
   "source": [
    "#### Change the Basemap"
   ]
  },
  {
   "cell_type": "code",
   "execution_count": null,
   "metadata": {},
   "outputs": [],
   "source": [
    "fig, ax = plt.subplots(figsize=(14, 14))\n",
    "\n",
    "nta_gdf.to_crs(epsg=3857).plot(\n",
    "    ax=ax, \n",
    "    column='boro_name', \n",
    "    legend=True, \n",
    "    cmap='Dark2', \n",
    "    alpha=0.7,\n",
    "    legend_kwds={\n",
    "        'loc': 2,\n",
    "        'shadow': True,\n",
    "    })\n",
    "\n",
    "### Contextily code here\n",
    "\n",
    "ax.axis('off')\n",
    "\n",
    "ax.set_title('New York City Boroughs', fontdict={'size': 20});"
   ]
  },
  {
   "cell_type": "markdown",
   "metadata": {},
   "source": [
    "#### Carto Basemaps - Positron Light"
   ]
  },
  {
   "cell_type": "code",
   "execution_count": null,
   "metadata": {},
   "outputs": [],
   "source": [
    "fig, ax = plt.subplots(figsize=(14, 14))\n",
    "\n",
    "nta_gdf.to_crs(epsg=3857).plot(\n",
    "    ax=ax, \n",
    "    column='boro_name', \n",
    "    legend=True, \n",
    "    cmap='Dark2', \n",
    "    alpha=0.7,\n",
    "    legend_kwds={\n",
    "        'loc': 2,\n",
    "        'shadow': True,\n",
    "    })\n",
    "\n",
    "### Contextily code here\n",
    "\n",
    "ax.axis('off')\n",
    "\n",
    "ax.set_title('New York City Boroughs', fontdict={'size': 20});"
   ]
  },
  {
   "cell_type": "markdown",
   "metadata": {},
   "source": [
    "#### Carto Positron Dark - No Labels"
   ]
  },
  {
   "cell_type": "code",
   "execution_count": null,
   "metadata": {},
   "outputs": [],
   "source": [
    "fig, ax = plt.subplots(figsize=(14, 14))\n",
    "\n",
    "nta_gdf.to_crs(epsg=3857).plot(\n",
    "    ax=ax, \n",
    "    column='boro_name', \n",
    "    legend=True, \n",
    "    cmap='Dark2', \n",
    "    alpha=0.7,\n",
    "    legend_kwds={\n",
    "        'loc': 2,\n",
    "        'shadow': True,\n",
    "    })\n",
    "\n",
    "### Contextily code here\n",
    "\n",
    "ax.axis('off')\n",
    "\n",
    "ax.set_title('New York City Boroughs', fontdict={'size': 20});"
   ]
  },
  {
   "cell_type": "markdown",
   "metadata": {},
   "source": [
    "#### More Carto (CartoDB) Basemaps\n",
    "\n",
    "https://github.com/CartoDB/basemap-styles\n",
    "\n",
    "\n",
    "#### More Contextily Basemaps\n",
    "\n",
    "https://github.com/darribas/contextily/blob/master/contextily/tile_providers.py"
   ]
  },
  {
   "cell_type": "markdown",
   "metadata": {},
   "source": [
    "## Join our NTA data to some Demographic Data"
   ]
  },
  {
   "cell_type": "code",
   "execution_count": null,
   "metadata": {},
   "outputs": [],
   "source": []
  },
  {
   "cell_type": "markdown",
   "metadata": {},
   "source": [
    "#### Read in Demographic Population Data 2000-2010 from NYC DCP "
   ]
  },
  {
   "cell_type": "code",
   "execution_count": null,
   "metadata": {},
   "outputs": [],
   "source": []
  },
  {
   "cell_type": "markdown",
   "metadata": {},
   "source": [
    "#### Shape of the data"
   ]
  },
  {
   "cell_type": "code",
   "execution_count": null,
   "metadata": {},
   "outputs": [],
   "source": []
  },
  {
   "cell_type": "markdown",
   "metadata": {},
   "source": [
    "#### List the columns"
   ]
  },
  {
   "cell_type": "code",
   "execution_count": null,
   "metadata": {},
   "outputs": [],
   "source": []
  },
  {
   "cell_type": "markdown",
   "metadata": {},
   "source": [
    "#### Let's merge our datasets"
   ]
  },
  {
   "cell_type": "code",
   "execution_count": null,
   "metadata": {},
   "outputs": [],
   "source": []
  },
  {
   "cell_type": "markdown",
   "metadata": {},
   "source": [
    "#### Describe our data"
   ]
  },
  {
   "cell_type": "code",
   "execution_count": null,
   "metadata": {},
   "outputs": [],
   "source": []
  },
  {
   "cell_type": "markdown",
   "metadata": {},
   "source": [
    "#### Plot"
   ]
  },
  {
   "cell_type": "code",
   "execution_count": null,
   "metadata": {},
   "outputs": [],
   "source": []
  },
  {
   "cell_type": "code",
   "execution_count": null,
   "metadata": {},
   "outputs": [],
   "source": []
  },
  {
   "cell_type": "code",
   "execution_count": null,
   "metadata": {},
   "outputs": [],
   "source": []
  }
 ],
 "metadata": {
  "kernelspec": {
   "display_name": "Python 3",
   "language": "python",
   "name": "python3"
  },
  "language_info": {
   "codemirror_mode": {
    "name": "ipython",
    "version": 3
   },
   "file_extension": ".py",
   "mimetype": "text/x-python",
   "name": "python",
   "nbconvert_exporter": "python",
   "pygments_lexer": "ipython3",
   "version": "3.6.10"
  },
  "toc": {
   "base_numbering": 1,
   "nav_menu": {},
   "number_sections": false,
   "sideBar": true,
   "skip_h1_title": false,
   "title_cell": "Table of Contents",
   "title_sidebar": "Contents",
   "toc_cell": true,
   "toc_position": {
    "height": "856.364px",
    "left": "34px",
    "top": "110.284px",
    "width": "177.833px"
   },
   "toc_section_display": false,
   "toc_window_display": false
  }
 },
 "nbformat": 4,
 "nbformat_minor": 2
}
